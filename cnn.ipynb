{
 "cells": [
  {
   "cell_type": "code",
   "execution_count": 1,
   "metadata": {},
   "outputs": [
    {
     "name": "stdout",
     "output_type": "stream",
     "text": [
      "arm64\n"
     ]
    }
   ],
   "source": [
    "import platform\n",
    "\n",
    "print(platform.machine())"
   ]
  },
  {
   "cell_type": "code",
   "execution_count": 2,
   "metadata": {},
   "outputs": [],
   "source": [
    "import io\n",
    "import os\n",
    "import torch\n",
    "import torchvision\n",
    "import torchvision.transforms as transforms\n",
    "import numpy as np\n",
    "import pandas as pd\n",
    "import pathlib\n",
    "\n",
    "import time\n",
    "from selenium import webdriver\n",
    "from PIL import Image\n",
    "from matplotlib import pyplot as plt"
   ]
  },
  {
   "cell_type": "code",
   "execution_count": 3,
   "metadata": {},
   "outputs": [],
   "source": [
    "from torchvision.io import read_image\n",
    "from torch.utils.data import Dataset, DataLoader\n",
    "device = torch.device(\"cpu\")\n",
    "\n",
    "class ImageDataset(Dataset):\n",
    "    def __init__(self, dataset, transform=None, target_transform=None):\n",
    "        labels = np.asarray([dataset[i][1] for i in range(len(dataset))])\n",
    "        data = np.asarray([dataset[i][0] for i in range(len(dataset))])\n",
    "        print(data.shape)\n",
    "        print(labels.shape)\n",
    "        \n",
    "        self.img_labels = torch.from_numpy(labels)\n",
    "        self.img_labels = self.img_labels.to(device)\n",
    "        \n",
    "        data = np.moveaxis(data, 3, 1)\n",
    "        self.img_data = torch.from_numpy(data)\n",
    "        self.img_data = self.img_data.to(device)\n",
    "        self.transform = transform\n",
    "        self.target_transform = target_transform\n",
    "        \n",
    "\n",
    "    def __len__(self):\n",
    "        #return len(self.img_labels)\n",
    "        return len(self.img_labels)*50\n",
    "\n",
    "    def __getitem__(self, idx):\n",
    "        idx = idx % len(self.img_labels)\n",
    "        image = self.img_data[idx]\n",
    "        \n",
    "        label = self.img_labels[idx]\n",
    "        if self.transform:\n",
    "            image = self.transform(image)\n",
    "        if self.target_transform:\n",
    "            label = self.target_transform(label)\n",
    "        \n",
    "        return image, label"
   ]
  },
  {
   "cell_type": "code",
   "execution_count": 4,
   "metadata": {},
   "outputs": [],
   "source": [
    "import torch.nn as nn\n",
    "\n",
    "X_train = list()\n",
    "y_train = list()\n",
    "\n",
    "for file in pathlib.Path(\"/Users/robert/Documents/RepositorysLocal/BerlinerPfannkuchenKlassifikatior/BerlinerPfannkuchenKlassifikator/data/pfannkuchen\").iterdir():\n",
    "    if file.is_file() and file.suffix == \".bmp\":\n",
    "        pic = Image.open(\"/Users/robert/Documents/RepositorysLocal/BerlinerPfannkuchenKlassifikatior/BerlinerPfannkuchenKlassifikator/data/pfannkuchen/\" + file.name)\n",
    "        pix = np.asarray(pic)\n",
    "        pix = pix / 255.0\n",
    "        pix = pix.astype(np.float32)\n",
    "        \n",
    "        X_train.append(pix)\n",
    "        y_train.append(1)\n",
    "        \n",
    "length = len(X_train)\n",
    "\n",
    "for file in pathlib.Path(\"/Users/robert/Documents/RepositorysLocal/BerlinerPfannkuchenKlassifikatior/BerlinerPfannkuchenKlassifikator/data/berliner\").iterdir():\n",
    "    if file.is_file() and file.suffix == \".bmp\":\n",
    "        pic = Image.open(\"/Users/robert/Documents/RepositorysLocal/BerlinerPfannkuchenKlassifikatior/BerlinerPfannkuchenKlassifikator/data/berliner/\" + file.name)\n",
    "        pix = np.asarray(pic)\n",
    "        pix = pix / 255.0\n",
    "        pix = pix.astype(np.float32)\n",
    "        \n",
    "        \n",
    "        X_train.append(pix)\n",
    "        y_train.append(0)\n",
    "        if len(X_train) >= length*2:\n",
    "            break #prevent one class from being overrepresented"
   ]
  },
  {
   "cell_type": "code",
   "execution_count": 5,
   "metadata": {},
   "outputs": [
    {
     "name": "stdout",
     "output_type": "stream",
     "text": [
      "(415, 112, 112, 3)\n",
      "(415,)\n",
      "(61, 112, 112, 3)\n",
      "(61,)\n",
      "(118, 112, 112, 3)\n",
      "(118,)\n"
     ]
    },
    {
     "data": {
      "image/png": "[encoded data removed]",
      "text/plain": [
       "<Figure size 640x480 with 1 Axes>"
      ]
     },
     "metadata": {},
     "output_type": "display_data"
    }
   ],
   "source": [
    "complete_dataset = np.asarray([[X_train[i], y_train[i]] for i in range(len(X_train))], dtype=object)\n",
    "\n",
    "total_count = len(X_train)\n",
    "train_count = int(0.7 * total_count)\n",
    "valid_count = int(0.2 * total_count)\n",
    "test_count = total_count - train_count - valid_count\n",
    "\n",
    "\n",
    "train_dataset, valid_dataset, test_dataset = torch.utils.data.random_split(\n",
    "    complete_dataset, (train_count, valid_count, test_count)\n",
    ")\n",
    "\n",
    "trainset = ImageDataset(train_dataset, transform=transforms.Compose([\n",
    "    transforms.RandomResizedCrop(112, scale=(0.7,1.0), ratio=(0.7,1.33)),\n",
    "    transforms.RandomPerspective(distortion_scale=0.3, p=1.0),\n",
    "    transforms.RandomRotation(degrees=(-45, 45))\n",
    "]))\n",
    "\n",
    "testset = ImageDataset(test_dataset, transform=transforms.Compose([\n",
    "    transforms.RandomResizedCrop(112, scale=(0.7,1.0), ratio=(0.7,1.33)),\n",
    "    transforms.RandomPerspective(distortion_scale=0.3, p=1.0),\n",
    "    transforms.RandomRotation(degrees=(-45, 45))\n",
    "]))\n",
    "\n",
    "validset = ImageDataset(valid_dataset, transform=transforms.Compose([\n",
    "    transforms.RandomResizedCrop(112, scale=(0.7,1.0), ratio=(0.7,1.33)),\n",
    "    transforms.RandomPerspective(distortion_scale=0.3, p=1.0),\n",
    "    transforms.RandomRotation(degrees=(-45, 45))\n",
    "]))\n",
    "\n",
    "\n",
    "data, lbl = trainset.__getitem__(400)\n",
    "data = np.asarray(data)\n",
    "data = np.moveaxis(data, 0, 2)\n",
    "\n",
    "plt.imshow(data) \n",
    "plt.show()\n"
   ]
  },
  {
   "cell_type": "code",
   "execution_count": 6,
   "metadata": {},
   "outputs": [],
   "source": [
    "import torch.nn as nn\n",
    "import torch.nn.functional as F\n",
    "\n",
    "class ConvNet(nn.Module):\n",
    "    def __init__(self):\n",
    "        super().__init__()\n",
    "        self.conv1 = nn.Conv2d(3, 9, 5, padding=2) \n",
    "        self.pool1 = nn.MaxPool2d(2, 2) # 56\n",
    "        self.conv2 = nn.Conv2d(9, 27, 3, padding=1)\n",
    "        self.pool2 = nn.MaxPool2d(2, 2) # 28\n",
    "        self.conv3 = nn.Conv2d(27, 81, 3, padding=1)\n",
    "        self.pool3 = nn.MaxPool2d(2, 2) # 14\n",
    "        self.fc1 = nn.Linear(81 * 14 * 14, 1024)\n",
    "        self.dropout1 = nn.Dropout1d(p = 0.5)\n",
    "        self.fc2 = nn.Linear(1024, 128)\n",
    "        \n",
    "        self.fc3 = nn.Linear(128, 2)\n",
    "\n",
    "    def forward(self, x):\n",
    "        x = self.pool1(F.relu(self.conv1(x)))\n",
    "        x = self.pool2(F.relu(self.conv2(x)))\n",
    "        x = self.pool3(F.relu(self.conv3(x)))\n",
    "        x = torch.flatten(x, 1) # flatten all dimensions except batch\n",
    "        x = F.relu(self.fc1(x))\n",
    "        x = F.relu(self.dropout1(self.fc2(x)))\n",
    "        x = self.fc3(x)\n",
    "        return x\n",
    "    \n",
    "net = ConvNet()\n",
    "net.to(device=device);"
   ]
  },
  {
   "cell_type": "code",
   "execution_count": 9,
   "metadata": {},
   "outputs": [
    {
     "name": "stderr",
     "output_type": "stream",
     "text": [
      "Epoch: 1, loss: 0.268: 100%|██████████| 415/415 [01:47<00:00,  3.87it/s]\n"
     ]
    },
    {
     "name": "stdout",
     "output_type": "stream",
     "text": [
      "------ Epoch 1 ------\n",
      "avg. Train loss: 0.42092502404408283\n",
      "Test loss: 0.5364419651813195 | Test accuracy: 0.6196721347629047\n"
     ]
    },
    {
     "name": "stderr",
     "output_type": "stream",
     "text": [
      "Epoch: 2, loss: 0.371: 100%|██████████| 415/415 [01:46<00:00,  3.88it/s]\n"
     ]
    },
    {
     "name": "stdout",
     "output_type": "stream",
     "text": [
      "------ Epoch 2 ------\n",
      "avg. Train loss: 0.4095867254647864\n",
      "Test loss: 0.5452254810294167 | Test accuracy: 0.6095082012356304\n"
     ]
    },
    {
     "name": "stderr",
     "output_type": "stream",
     "text": [
      "Epoch: 3, loss: 0.494: 100%|██████████| 415/415 [01:47<00:00,  3.86it/s]\n"
     ]
    },
    {
     "name": "stdout",
     "output_type": "stream",
     "text": [
      "------ Epoch 3 ------\n",
      "avg. Train loss: 0.4126669425562204\n",
      "Test loss: 0.5522747582099476 | Test accuracy: 0.6121311505309871\n"
     ]
    },
    {
     "name": "stderr",
     "output_type": "stream",
     "text": [
      "Epoch: 4, loss: 0.332: 100%|██████████| 415/415 [01:47<00:00,  3.87it/s]\n"
     ]
    },
    {
     "name": "stdout",
     "output_type": "stream",
     "text": [
      "------ Epoch 4 ------\n",
      "avg. Train loss: 0.3964164709470358\n",
      "Test loss: 0.6220928386586612 | Test accuracy: 0.6245901638367137\n"
     ]
    },
    {
     "name": "stderr",
     "output_type": "stream",
     "text": [
      "Epoch: 5, loss: 0.342: 100%|██████████| 415/415 [01:45<00:00,  3.94it/s]\n"
     ]
    },
    {
     "name": "stdout",
     "output_type": "stream",
     "text": [
      "------ Epoch 5 ------\n",
      "avg. Train loss: 0.3965653391128563\n",
      "Test loss: 0.5256597863846137 | Test accuracy: 0.6081967265879522\n"
     ]
    },
    {
     "name": "stderr",
     "output_type": "stream",
     "text": [
      "Epoch: 6, loss: 0.291: 100%|██████████| 415/415 [01:48<00:00,  3.83it/s]\n"
     ]
    },
    {
     "name": "stdout",
     "output_type": "stream",
     "text": [
      "------ Epoch 6 ------\n",
      "avg. Train loss: 0.3913821733859648\n",
      "Test loss: 0.6389367282390594 | Test accuracy: 0.5914754154252224\n"
     ]
    },
    {
     "name": "stderr",
     "output_type": "stream",
     "text": [
      "Epoch: 7, loss: 0.353: 100%|██████████| 415/415 [01:44<00:00,  3.98it/s]\n"
     ]
    },
    {
     "name": "stdout",
     "output_type": "stream",
     "text": [
      "------ Epoch 7 ------\n",
      "avg. Train loss: 0.3877603072358901\n",
      "Test loss: 0.5380780882522708 | Test accuracy: 0.6186885286550052\n"
     ]
    },
    {
     "name": "stderr",
     "output_type": "stream",
     "text": [
      "Epoch: 8, loss: 0.302: 100%|██████████| 415/415 [01:50<00:00,  3.77it/s]\n"
     ]
    },
    {
     "name": "stdout",
     "output_type": "stream",
     "text": [
      "------ Epoch 8 ------\n",
      "avg. Train loss: 0.3910954476480024\n",
      "Test loss: 0.5590889312204768 | Test accuracy: 0.5990163957486387\n"
     ]
    },
    {
     "name": "stderr",
     "output_type": "stream",
     "text": [
      "Epoch: 9, loss: 0.43: 100%|██████████| 415/415 [01:48<00:00,  3.81it/s] \n"
     ]
    },
    {
     "name": "stdout",
     "output_type": "stream",
     "text": [
      "------ Epoch 9 ------\n",
      "avg. Train loss: 0.390916344882494\n",
      "Test loss: 0.5497880973776833 | Test accuracy: 0.6167213135078305\n"
     ]
    },
    {
     "name": "stderr",
     "output_type": "stream",
     "text": [
      "Epoch: 10, loss: 0.346: 100%|██████████| 415/415 [01:45<00:00,  3.92it/s]\n"
     ]
    },
    {
     "name": "stdout",
     "output_type": "stream",
     "text": [
      "------ Epoch 10 ------\n",
      "avg. Train loss: 0.3846485472228154\n",
      "Test loss: 0.592926311688345 | Test accuracy: 0.6180327915754474\n"
     ]
    },
    {
     "name": "stderr",
     "output_type": "stream",
     "text": [
      "Epoch: 11, loss: 0.359: 100%|██████████| 415/415 [01:43<00:00,  4.01it/s]\n"
     ]
    },
    {
     "name": "stdout",
     "output_type": "stream",
     "text": [
      "------ Epoch 11 ------\n",
      "avg. Train loss: 0.37969058884913665\n",
      "Test loss: 0.664368917707537 | Test accuracy: 0.5960655764478152\n"
     ]
    },
    {
     "name": "stderr",
     "output_type": "stream",
     "text": [
      "Epoch: 12, loss: 0.334: 100%|██████████| 415/415 [01:46<00:00,  3.91it/s]\n"
     ]
    },
    {
     "name": "stdout",
     "output_type": "stream",
     "text": [
      "------ Epoch 12 ------\n",
      "avg. Train loss: 0.3856830438217485\n",
      "Test loss: 0.5302489228913041 | Test accuracy: 0.6262295109326722\n"
     ]
    },
    {
     "name": "stderr",
     "output_type": "stream",
     "text": [
      "Epoch: 13, loss: 0.331: 100%|██████████| 415/415 [01:47<00:00,  3.86it/s]\n"
     ]
    },
    {
     "name": "stdout",
     "output_type": "stream",
     "text": [
      "------ Epoch 13 ------\n",
      "avg. Train loss: 0.383412884660514\n",
      "Test loss: 0.538562644700535 | Test accuracy: 0.6147541017805944\n"
     ]
    },
    {
     "name": "stderr",
     "output_type": "stream",
     "text": [
      "Epoch: 14, loss: 0.502: 100%|██████████| 415/415 [01:44<00:00,  3.96it/s]\n"
     ]
    },
    {
     "name": "stdout",
     "output_type": "stream",
     "text": [
      "------ Epoch 14 ------\n",
      "avg. Train loss: 0.3771422078092414\n",
      "Test loss: 0.684183595121884 | Test accuracy: 0.5878688556249024\n"
     ]
    },
    {
     "name": "stderr",
     "output_type": "stream",
     "text": [
      "Epoch: 15, loss: 0.33: 100%|██████████| 415/415 [01:46<00:00,  3.89it/s] \n"
     ]
    },
    {
     "name": "stdout",
     "output_type": "stream",
     "text": [
      "------ Epoch 15 ------\n",
      "avg. Train loss: 0.3781468110630311\n",
      "Test loss: 0.5795583710318706 | Test accuracy: 0.628196726079847\n"
     ]
    },
    {
     "name": "stderr",
     "output_type": "stream",
     "text": [
      "Epoch: 16, loss: 0.404: 100%|██████████| 415/415 [01:43<00:00,  4.03it/s]\n"
     ]
    },
    {
     "name": "stdout",
     "output_type": "stream",
     "text": [
      "------ Epoch 16 ------\n",
      "avg. Train loss: 0.38461634491581514\n",
      "Test loss: 0.6310435318555988 | Test accuracy: 0.5963934459647194\n"
     ]
    },
    {
     "name": "stderr",
     "output_type": "stream",
     "text": [
      "Epoch: 17, loss: 0.37: 100%|██████████| 415/415 [01:44<00:00,  3.98it/s] \n"
     ]
    },
    {
     "name": "stdout",
     "output_type": "stream",
     "text": [
      "------ Epoch 17 ------\n",
      "avg. Train loss: 0.3761698898780777\n",
      "Test loss: 0.5082910832811575 | Test accuracy: 0.6373770515449712\n"
     ]
    },
    {
     "name": "stderr",
     "output_type": "stream",
     "text": [
      "Epoch: 18, loss: 0.341: 100%|██████████| 415/415 [01:43<00:00,  4.01it/s]\n"
     ]
    },
    {
     "name": "stdout",
     "output_type": "stream",
     "text": [
      "------ Epoch 18 ------\n",
      "avg. Train loss: 0.3860183289611196\n",
      "Test loss: 0.494959367103264 | Test accuracy: 0.6367213159311013\n"
     ]
    },
    {
     "name": "stderr",
     "output_type": "stream",
     "text": [
      "Epoch: 19, loss: 0.34: 100%|██████████| 415/415 [01:45<00:00,  3.95it/s] \n"
     ]
    },
    {
     "name": "stdout",
     "output_type": "stream",
     "text": [
      "------ Epoch 19 ------\n",
      "avg. Train loss: 0.37322570351232964\n",
      "Test loss: 0.5856418096628345 | Test accuracy: 0.6147541017805944\n"
     ]
    },
    {
     "name": "stderr",
     "output_type": "stream",
     "text": [
      "Epoch: 20, loss: 0.406: 100%|██████████| 415/415 [01:45<00:00,  3.93it/s]\n"
     ]
    },
    {
     "name": "stdout",
     "output_type": "stream",
     "text": [
      "------ Epoch 20 ------\n",
      "avg. Train loss: 0.3706019720040172\n",
      "Test loss: 0.7318047118968651 | Test accuracy: 0.5993442696626069\n",
      "Finished Training\n"
     ]
    },
    {
     "data": {
      "text/plain": [
       "<matplotlib.legend.Legend at 0x1430019d0>"
      ]
     },
     "execution_count": 9,
     "metadata": {},
     "output_type": "execute_result"
    },
    {
     "data": {
      "image/png": "[encoded data removed]",
      "text/plain": [
       "<Figure size 640x480 with 1 Axes>"
      ]
     },
     "metadata": {},
     "output_type": "display_data"
    }
   ],
   "source": [
    "from tqdm import tqdm\n",
    "import torch.optim as optim\n",
    "\n",
    "# Fix random seed to get reproducibility\n",
    "torch.manual_seed(42)\n",
    "\n",
    "batch_size=50\n",
    "train_dataloader = torch.utils.data.DataLoader(trainset, batch_size=batch_size, shuffle=True, num_workers=0)\n",
    "test_dataloader = torch.utils.data.DataLoader(testset, batch_size=batch_size, shuffle=True, num_workers=0)\n",
    "\n",
    "criterion = nn.CrossEntropyLoss()\n",
    "optimizer = optim.Adam(net.parameters(), lr=0.001, weight_decay=0.001)\n",
    "\n",
    "train_losses = []\n",
    "test_losses = []\n",
    "test_accuracys = []\n",
    "running_loss = []\n",
    "\n",
    "for epoch in range(20):  # loop over the dataset multiple times\n",
    "\n",
    "    # EXTRA: get a nice progress bar visualization\n",
    "    train_progress  = tqdm(train_dataloader, desc=f\"Epoch {epoch + 1}\", mininterval=0.3)\n",
    "    for i, data in enumerate(train_progress, 0):\n",
    "        # get the inputs; data is a list of [inputs, labels]\n",
    "        inputs, labels = data\n",
    "\n",
    "        # zero the parameter gradients\n",
    "        optimizer.zero_grad()\n",
    "        \n",
    "        # forward + backward + optimize\n",
    "        outputs = net(inputs)\n",
    "        loss = criterion(outputs, labels)\n",
    "        loss.backward()\n",
    "        optimizer.step()\n",
    "        \n",
    "        \n",
    "        # print statistics\n",
    "        running_loss.append(loss.item())\n",
    "        train_progress.set_description(f\"Epoch: {epoch+1}, loss: {loss.item():.3}\")\n",
    "    \n",
    "    print(f\"------ Epoch {epoch+1} ------\")\n",
    "    \n",
    "    test_loss = 0\n",
    "    test_accuracy = 0\n",
    "    for i, data in enumerate(test_dataloader, 0):\n",
    "        inputs, labels = data\n",
    "        outputs = net(inputs)\n",
    "        loss = criterion(outputs, labels)\n",
    "        test_loss += loss.item()\n",
    "        test_accuracy += (outputs.argmax(dim=1) == labels).type(torch.float).mean().item()\n",
    "    test_loss = test_loss / len(test_dataloader)\n",
    "    test_accuracy = test_accuracy / len(test_dataloader)\n",
    "    \n",
    "    test_accuracys.append(test_accuracy)\n",
    "    test_losses.append(test_loss)\n",
    "    train_losses.append(sum(running_loss)/(len(running_loss)))\n",
    "    \n",
    "    print(f\"avg. Train loss: {sum(running_loss)/(len(train_dataloader))}\")\n",
    "    print(f\"Test loss: {test_loss} | Test accuracy: {test_accuracy}\")\n",
    "    running_loss = []\n",
    "\n",
    "print('Finished Training')\n",
    "plt.plot(train_losses, label='train loss')\n",
    "plt.plot(test_accuracys, label='test accuracy')\n",
    "plt.plot(test_losses, label='test loss')\n",
    "\n",
    "plt.legend()"
   ]
  },
  {
   "cell_type": "code",
   "execution_count": null,
   "metadata": {},
   "outputs": [],
   "source": [
    "from sklearn import datasets\n",
    "from sklearn import model_selection\n",
    "from sklearn import linear_model\n",
    "from sklearn import metrics\n",
    "from torchvision.transforms import RandomResizedCrop\n",
    "\n",
    "\"\"\"\n",
    "trainset = ImageDataset(y_train, X_train, transform=transforms.Compose([\n",
    "    #RandomResizedCrop(112, scale=(0.7,1.0), ratio=(0.5,2))\n",
    "]))\n",
    "ml_dataloader = torch.utils.data.DataLoader(trainset, batch_size=1, shuffle=True, num_workers=0)\n",
    "\n",
    "impr_trainset_data = []\n",
    "impr_trainset_labels = []\n",
    "for batch in ml_dataloader:\n",
    "    data, lbl = batch\n",
    "    lbl = np.asarray(lbl)[0]\n",
    "    data = np.asarray(data)\n",
    "    data = np.moveaxis(data, 0, 2)\n",
    "    impr_trainset_data.append(data)\n",
    "    impr_trainset_labels.append(lbl)\n",
    "\n",
    "impr_trainset_labels = np.asarray(impr_trainset_labels)    \n",
    "impr_trainset_data = np.asarray(impr_trainset_data)\n",
    "impr_trainset_data = impr_trainset_data.reshape(-1, 3 * 112 * 112)\n",
    "\"\"\";\n",
    "impr_trainset_data = X_train.reshape(-1, 3 * 112 * 112)\n",
    "impr_trainset_labels = y_train\n",
    "\n",
    "model = linear_model.LogisticRegression(multi_class='ovr', solver='liblinear', verbose=1)\n",
    "model.fit(impr_trainset_data, impr_trainset_labels)"
   ]
  },
  {
   "cell_type": "code",
   "execution_count": null,
   "metadata": {},
   "outputs": [],
   "source": [
    "test_path = \"/Users/robert/Documents/RepositorysLocal/BerlinerPfannkuchenKlassifikatior/BerlinerPfannkuchenKlassifikator/ccd1103058108dca8975f3aa0e15024118d43058.bmp\"\n",
    "test_path = \"/Users/robert/Documents/RepositorysLocal/BerlinerPfannkuchenKlassifikatior/BerlinerPfannkuchenKlassifikator/5d218a52d5657d1b40909b8805944b3f83b29c8d.bmp\"\n",
    "test_pic = Image.open(test_path)\n",
    "test_data = np.asarray(test_pic)\n",
    "test_data = (test_data / 255.0)\n",
    "test_data = test_data.astype(np.float32)\n",
    "test_data = test_data.reshape(-1, 3 , 112, 112)\n",
    "test_data = torch.from_numpy(test_data)\n",
    "test_data = test_data.reshape(-1, 3 * 112 * 112)\n",
    "\n",
    "pred = model.predict(test_data)\n",
    "pred\n",
    "\n",
    "print(f'Actual value from test data is 0 and corresponding image is as below')\n",
    "plt.matshow(test_data.reshape((112,112,3))) \n",
    "plt.show()\n",
    "print(f'Predicted value from test data is {pred[0]} and corresponding image is as below')\n",
    "\n"
   ]
  },
  {
   "cell_type": "code",
   "execution_count": 10,
   "metadata": {},
   "outputs": [
    {
     "name": "stdout",
     "output_type": "stream",
     "text": [
      "accuracy: 0.6667796610169492\n",
      "loss: 0.702613603469689\n"
     ]
    }
   ],
   "source": [
    "val_loss = 0\n",
    "val_accuracy = 0\n",
    "\n",
    "\n",
    "valid_dataloader = torch.utils.data.DataLoader(validset, batch_size=1, shuffle=True, num_workers=0)\n",
    "\n",
    "for i, data in enumerate(valid_dataloader, 0):\n",
    "    inputs, labels = data\n",
    "    outputs = net(inputs)\n",
    "    loss = criterion(outputs, labels)\n",
    "    val_loss += loss.item()\n",
    "    val_accuracy += (outputs.argmax(dim=1) == labels).type(torch.float).mean().item()\n",
    "val_loss = val_loss / len(valid_dataloader)\n",
    "val_accuracy = val_accuracy / len(valid_dataloader)\n",
    "\n",
    "print(\"accuracy: {}\".format(val_accuracy))\n",
    "print(\"loss: {}\".format(val_loss))\n",
    "    "
   ]
  }
 ],
 "metadata": {
  "kernelspec": {
   "display_name": "Python 3.9.16 ('d2l')",
   "language": "python",
   "name": "python3"
  },
  "language_info": {
   "codemirror_mode": {
    "name": "ipython",
    "version": 3
   },
   "file_extension": ".py",
   "mimetype": "text/x-python",
   "name": "python",
   "nbconvert_exporter": "python",
   "pygments_lexer": "ipython3",
   "version": "3.9.16"
  },
  "orig_nbformat": 4,
  "vscode": {
   "interpreter": {
    "hash": "6da7fd945713e64da6cbf98a618bc2c3ff6cb6697c7e79e8c184f718774efc42"
   }
  }
 },
 "nbformat": 4,
 "nbformat_minor": 2
}
