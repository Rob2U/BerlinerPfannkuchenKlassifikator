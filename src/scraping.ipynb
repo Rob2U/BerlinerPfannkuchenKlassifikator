{
 "cells": [
  {
   "cell_type": "code",
   "execution_count": 53,
   "metadata": {},
   "outputs": [],
   "source": [
    "import requests\n",
    "import io\n",
    "import hashlib\n",
    "import os\n",
    "\n",
    "import time\n",
    "from selenium import webdriver\n",
    "from PIL import Image"
   ]
  },
  {
   "cell_type": "code",
   "execution_count": 37,
   "metadata": {},
   "outputs": [],
   "source": [
    "def scroll_to_end(wd: webdriver):\n",
    "        wd.execute_script(\"window.scrollTo(0, document.body.scrollHeight);\")\n",
    "        time.sleep(1)"
   ]
  },
  {
   "cell_type": "code",
   "execution_count": 48,
   "metadata": {},
   "outputs": [],
   "source": [
    "def get_images(wd: webdriver.Chrome, element_count: int, element_class: str, url: str):\n",
    "    wd.get(url=url)\n",
    "    \n",
    "    img_urls = set()\n",
    "    img_limit_reached = False\n",
    "    \n",
    "    while len(img_urls) < element_count or img_limit_reached:\n",
    "        img_limit_reached = True\n",
    "        scroll_to_end(wd=wd)\n",
    "        \n",
    "        results = wd.find_elements_by_class_name(element_class)\n",
    "        res_count = len(results)\n",
    "        \n",
    "        for elem in results:\n",
    "            if len(img_urls) >= element_count:\n",
    "                break\n",
    "            if elem.get_attribute('src') and 'http' in elem.get_attribute('src') and elem.get_attribute('src') not in img_urls:\n",
    "                    img_urls.add(elem.get_attribute('src'))\n",
    "                    img_limit_reached = False\n",
    "    wd.quit()\n",
    "    return img_urls"
   ]
  },
  {
   "cell_type": "code",
   "execution_count": 49,
   "metadata": {},
   "outputs": [],
   "source": [
    "driver = webdriver.Chrome('/Users/robert/Documents/RepositorysLocal/BerlinerPfannkuchenKlassifikatior/chromedriver_mac_arm64/chromedriver')\n",
    "url = \"https://www.google.com/search?q=Berliner+(Geb%C3%A4ck)&tbm=isch&ved=2ahUKEwikusWEnOP8AhWcxrsIHa14AdYQ2-cCegQIABAA&oq=Berliner+(Geb%C3%A4ck)&gs_lcp=CgNpbWcQAzIECAAQHjIECAAQHjIECAAQHjoFCAAQgAQ6BggAEAgQHlDyAliYH2DrIWgAcAB4AIABgwGIAbMFkgEEMTAuMZgBAKABAaoBC2d3cy13aXotaW1nwAEB&sclient=img&ei=PmPRY6SjApyN7_UPrfGFsA0&bih=957&biw=1200\"\n",
    "img_urls = get_images(wd=driver, element_count=200, element_class=\"rg_i.Q4LuWd\", url=url)"
   ]
  },
  {
   "cell_type": "code",
   "execution_count": 44,
   "metadata": {},
   "outputs": [
    {
     "data": {
      "text/plain": [
       "20"
      ]
     },
     "execution_count": 44,
     "metadata": {},
     "output_type": "execute_result"
    }
   ],
   "source": [
    "len(img_urls)"
   ]
  },
  {
   "cell_type": "code",
   "execution_count": 10,
   "metadata": {},
   "outputs": [],
   "source": [
    "def save_img(path:str, url:str):\n",
    "    try:\n",
    "        img = requests.get(url).content\n",
    "\n",
    "    except Exception as e:\n",
    "        print(\"Error while trying to download: {0} \\n\".format(url))\n",
    "\n",
    "    try:\n",
    "        img_data = io.BytesIO(img)\n",
    "        \n",
    "        image = Image.open(img_data).convert('RGB')\n",
    "        file_path = os.path.join(path, hashlib.sha1(img).hexdigest() + '.bmp')\n",
    "        with open(file_path, 'wb') as f:\n",
    "            image.save(f, \"BMP\")\n",
    "    except Exception as e:\n",
    "        print(\"Error while trying to store: {0}\".format(url))"
   ]
  }
 ],
 "metadata": {
  "kernelspec": {
   "display_name": "Python 3.9.13 ('d2l')",
   "language": "python",
   "name": "python3"
  },
  "language_info": {
   "codemirror_mode": {
    "name": "ipython",
    "version": 3
   },
   "file_extension": ".py",
   "mimetype": "text/x-python",
   "name": "python",
   "nbconvert_exporter": "python",
   "pygments_lexer": "ipython3",
   "version": "3.9.13"
  },
  "orig_nbformat": 4,
  "vscode": {
   "interpreter": {
    "hash": "6da7fd945713e64da6cbf98a618bc2c3ff6cb6697c7e79e8c184f718774efc42"
   }
  }
 },
 "nbformat": 4,
 "nbformat_minor": 2
}
